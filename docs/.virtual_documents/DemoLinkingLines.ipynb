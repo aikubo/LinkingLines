


#Let's begin by loading the modules 

#previously published packages
import pandas as pd 
import matplotlib.pyplot as plt 
import numpy as np 
import scipy.cluster.hierarchy as sch
import os
import seaborn as sns
from datetime import datetime
import matplotlib.gridspec as gridspec



import sys
sys.path.append("../src")
sys.path.append("/home/akh/myprojects/Dikes_Linking_Project/dikedata/spanish peaks")

# Packages written for the paper
from htMOD import HoughTransform
from clusterMod import AggCluster
from plotmod import DotsLines, plotScatterHist, pltRec, DotsHT
from PrePostProcess import * 
from examineMod import examineClusters, checkoutCluster
from fitRadialCenters import RadialFit, NearCenters, CenterFunc



# Load the example dataset 

#load it using pandas.read_csv
# the CSV must have a column called "WKT" and can have any other data 
dikeset=pd.read_csv('/home/akh/myprojects/Dikes_Linking_Project/dikedata/spanish peaks/SpanishPeaks_3857.csv')

#Preprocessing step
dikeset=DikesetReProcess(dikeset)










theta, rho, xc,  yc=HoughTransform(dikeset)
print(xc,yc) 
dikeset['theta']=theta #Add to the dataframe in a column called 'theta'
dikeset['rho']=rho

print(dikeset.columns)





fig,ax=DotsLines(dikeset, ColorBy='theta')






dtheta=2 
drho=np.floor(dikeset['seg_length'].mean())

dikeset, Z=AggCluster(dikeset, dtheta, drho, linkage='complete', rotate=True, metric='Euclidean')
lines,evaluation=examineClusters(dikeset) #this function takes all the data with the labels 

fig,ax=DotsLines(lines, ColorBy='AvgTheta')
print(lines.columns)





fig, [ax_main, ax_xDist, ax_yDist]=plotScatterHist(lines, "AvgTheta", 
                                                   "AvgRho", hue='Ymid', palette="icefire")





writeToQGIS(lines, 'SpanishPeaks_ClusteringResults.csv')






#Lets filter by 'Ymid'

#Radial 1 - we will color with Purple so we call it purple
mask2=(dikeset['Ymid']>4.52e6)  #filter dataset
Purp=RadialFit(dikeset[mask2]) #fit based on filtered dataset

#What doe it return?
print(Purp)







PurpClose, Purp=NearCenters(lines, Purp, tol=2500) # pickout all clustered lines which intersect within 2.5km of center
#tol can be changed to fit your circumstances 

#Let's plot those to take a look!

fig,ax=DotsLines(PurpClose, ColorBy=None, color='Purple')

#Plot the fit onto the data 
angles=np.linspace(-90,90) #make an array of angles from -90,90 for plotting
rhoPurp=CenterFunc(angles,Purp['Center'][0][0], Purp['Center'][0][1], xc,yc)/1000 #calculate rho values, convert to kilometers
#CenterFunc is the implementation of above equation 


ax[1].plot(angles, rhoPurp, 'k') #plot onto the HT portion of the graph





#Radial 2 - Green
mask2=(dikeset['Ymid']<4.52e6) & (dikeset['Ymid']>4.48e6) #Filter dataset by 'Ymid'
green=RadialFit(dikeset[mask2]) # Run dataset through RadialFit
GreenClose, green=NearCenters(lines, green, tol=2500) # find the lines which interesect within 2.5 km of Center

rhoGreen=CenterFunc(angles,green['Center'][0][0], green['Center'][0][1], xc,yc)/1000 #make array of rho values based on center

fig, ax=DotsLines(GreenClose, color='green', ColorBy=None) #graph the data that fits the center
ax[1].plot(angles, rhoGreen, 'k') #plot onto the HT portion of the graph





# Find labels of radial features 
radLabelsl=np.concatenate( (PurpClose['Label'].values, GreenClose['Label'].values))

# Find labels of non-radial features 
linl=lines[((~np.in1d(lines['Label'].values, radLabelsl)) & (lines['AvgTheta'].values<-55)) ]
linl=linl.assign(Structure='Linear')

#Add Structure column
GreenClose=GreenClose.assign(Structure='Radial 1') 
PurpClose=PurpClose.assign(Structure='Radial 2')

CloseLines=pd.concat((GreenClose, PurpClose, linl)) #make one dataframe called closelines
Centers=pd.concat((green, Purp)) #make one dataframe called centers

#Write to CSV with QGIS operability
writeCenterWKT(Centers, 'SpanishPeaksRadialFitsCenters.csv')
writeToQGIS(CloseLines, 'SPRadialFitsLines.csv')
